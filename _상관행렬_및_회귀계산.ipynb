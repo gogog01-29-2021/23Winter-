{
  "nbformat": 4,
  "nbformat_minor": 0,
  "metadata": {
    "colab": {
      "provenance": []
    },
    "kernelspec": {
      "name": "python3",
      "display_name": "Python 3"
    },
    "language_info": {
      "name": "python"
    }
  },
  "cells": [
    {
      "cell_type": "code",
      "execution_count": null,
      "metadata": {
        "id": "5d_9bZxPWkXz"
      },
      "outputs": [],
      "source": [
        "# 비트코인 가격, 거래량, 증감률\n",
        "b_price = [46311, 38481, 43194, 45554, 37713, 31792, 19820, 23336, 20050, 19431, 20494, 17168, 16547, 23137, 23150, 28473, 29227, 27218, 30471, 29230, 25934, 26967, 34657, 37718]\n",
        "# a = [923B, 671B, 830B, 830B, 1T, 923B, 927B, 894B, 1.1T, 957B, 1.2T, 567B, 690B, 723B, 883B, 531B, 443B, 481B, 382B, 437B, 337B, 476B, 570B, 721B]\n",
        "b_trade = [0.9, 0.6, 0.8, 0.8, 1, 0.9, 0.8, 1.1, 0.9, 1.2, 0.5, 0.6, 0.7, 0.8, 0.5, 0.4, 0.4, 0.3, 0.4, 0.3, 0.4, 0.5, 0.7] # trillion 단위임\n",
        "b_updown = [-16, 12, 5, -17, -15, -37, 17, -14, -3, 5, -16, -3, 39, 0, 23, 2, -6, 11, -4, -11, 4, 28, 8, 12]"
      ]
    },
    {
      "cell_type": "code",
      "source": [
        "#나스닥 지수 가격, 거래량\n",
        "s_price = [15732, 14277, 13716, 14269, 12331, 12176, 11006, 12317, 11707, 10659, 11154, 11475, 10562, 11573, 11447, 12146, 12210, 12944, 13798, 14274, 14129, 13217, 12887, 14181]\n",
        "s_trade = [20, 18, 26, 19, 23, 26, 18, 21, 22, 19, 20, 21, 19, 19, 25, 17, 21, 25, 19, 21, 19, 19, 19, 20] # billion 단위임"
      ],
      "metadata": {
        "id": "iGPFVeb9Z7rC"
      },
      "execution_count": null,
      "outputs": []
    },
    {
      "cell_type": "code",
      "source": [
        "#예금량\n",
        "deposits = [17936,17999,18058,18162,18136,18113,18017,18027,17953,17814,17713,17746,17736,17711,17615,17293,17248,17284,17371,17363,17297,17361,17351,17311] #billion\n",
        "print(len(deposits))"
      ],
      "metadata": {
        "colab": {
          "base_uri": "https://localhost:8080/"
        },
        "id": "17HtXP-kozSJ",
        "outputId": "3524a977-a14b-449e-ee8e-0e3d2b45beb3"
      },
      "execution_count": null,
      "outputs": [
        {
          "output_type": "stream",
          "name": "stdout",
          "text": [
            "24\n"
          ]
        }
      ]
    },
    {
      "cell_type": "code",
      "source": [
        "import numpy as np\n",
        "import statistics as stat\n",
        "from matplotlib import pyplot\n",
        "import pandas as pd"
      ],
      "metadata": {
        "id": "R8-MTakTeMdJ"
      },
      "execution_count": null,
      "outputs": []
    },
    {
      "cell_type": "code",
      "source": [
        "# 애플 가격 거래량\n",
        "a_price = [178,174,165,174,157,150,136,161,157,138,155,148,130,144,147,164,169,178,194,196, 189,171, 171, 190]\n",
        "a_trade = [2.1, 1.6, 2.2 , 1.7, 2.4, 1.7, 1.4, 1.5, 2.0, 1.8, 1.7, 1.6, 1.4, 1.3, 1.5, 0.9, 1.2, 1.03, 0.9, 1.3, 1.3, 1.2, 1.0, 1.1] #billion 단위임\n",
        "\n",
        "print(len(a_price))\n"
      ],
      "metadata": {
        "colab": {
          "base_uri": "https://localhost:8080/"
        },
        "id": "q4niE696ewXZ",
        "outputId": "330e0590-2e94-4a48-f4ff-80e87b89b672"
      },
      "execution_count": null,
      "outputs": [
        {
          "output_type": "stream",
          "name": "stdout",
          "text": [
            "24\n"
          ]
        }
      ]
    },
    {
      "cell_type": "code",
      "source": [
        "data = pd.DataFrame({'bitcoin price' : b_price,'nasdaq' : s_price, 'deposits' : deposits, 'apple price' : a_price})\n",
        "\n",
        "print(\"The DataFrame of Employees is:\")\n",
        "print(data, \"\\n\")\n",
        "\n",
        "corr_df = data.corr(method=\"spearman\")\n",
        "print(\"The correlation DataFrame is:\")\n",
        "print(corr_df, \"\\n\")\n",
        "\n",
        "corr_df = data.corr(method=\"pearson\")\n",
        "print(\"The correlation DataFrame is:\")\n",
        "print(corr_df, \"\\n\")\n",
        "\n",
        "corr_df.style.background_gradient(cmap=\"coolwarm\")"
      ],
      "metadata": {
        "colab": {
          "base_uri": "https://localhost:8080/",
          "height": 928
        },
        "id": "iK2T3Rl4qZAM",
        "outputId": "733e9239-72f2-488b-b6bf-6d979616aa27"
      },
      "execution_count": null,
      "outputs": [
        {
          "output_type": "stream",
          "name": "stdout",
          "text": [
            "The DataFrame of Employees is:\n",
            "    bitcoin price  nasdaq  deposits  apple price\n",
            "0           46311   15732     17936          178\n",
            "1           38481   14277     17999          174\n",
            "2           43194   13716     18058          165\n",
            "3           45554   14269     18162          174\n",
            "4           37713   12331     18136          157\n",
            "5           31792   12176     18113          150\n",
            "6           19820   11006     18017          136\n",
            "7           23336   12317     18027          161\n",
            "8           20050   11707     17953          157\n",
            "9           19431   10659     17814          138\n",
            "10          20494   11154     17713          155\n",
            "11          17168   11475     17746          148\n",
            "12          16547   10562     17736          130\n",
            "13          23137   11573     17711          144\n",
            "14          23150   11447     17615          147\n",
            "15          28473   12146     17293          164\n",
            "16          29227   12210     17248          169\n",
            "17          27218   12944     17284          178\n",
            "18          30471   13798     17371          194\n",
            "19          29230   14274     17363          196\n",
            "20          25934   14129     17297          189\n",
            "21          26967   13217     17361          171\n",
            "22          34657   12887     17351          171\n",
            "23          37718   14181     17311          190 \n",
            "\n",
            "The correlation DataFrame is:\n",
            "               bitcoin price    nasdaq  deposits  apple price\n",
            "bitcoin price       1.000000  0.836522  0.138261     0.678416\n",
            "nasdaq              0.836522  1.000000 -0.051304     0.909487\n",
            "deposits            0.138261 -0.051304  1.000000    -0.367711\n",
            "apple price         0.678416  0.909487 -0.367711     1.000000 \n",
            "\n",
            "The correlation DataFrame is:\n",
            "               bitcoin price    nasdaq  deposits  apple price\n",
            "bitcoin price       1.000000  0.810528  0.190460     0.560380\n",
            "nasdaq              0.810528  1.000000 -0.120467     0.861879\n",
            "deposits            0.190460 -0.120467  1.000000    -0.479570\n",
            "apple price         0.560380  0.861879 -0.479570     1.000000 \n",
            "\n"
          ]
        },
        {
          "output_type": "execute_result",
          "data": {
            "text/plain": [
              "<pandas.io.formats.style.Styler at 0x7d0bbf493c70>"
            ],
            "text/html": [
              "<style type=\"text/css\">\n",
              "#T_53b73_row0_col0, #T_53b73_row1_col1, #T_53b73_row2_col2, #T_53b73_row3_col3 {\n",
              "  background-color: #b40426;\n",
              "  color: #f1f1f1;\n",
              "}\n",
              "#T_53b73_row0_col1 {\n",
              "  background-color: #e8765c;\n",
              "  color: #f1f1f1;\n",
              "}\n",
              "#T_53b73_row0_col2 {\n",
              "  background-color: #cfdaea;\n",
              "  color: #000000;\n",
              "}\n",
              "#T_53b73_row0_col3 {\n",
              "  background-color: #f7ac8e;\n",
              "  color: #000000;\n",
              "}\n",
              "#T_53b73_row1_col0 {\n",
              "  background-color: #f29274;\n",
              "  color: #f1f1f1;\n",
              "}\n",
              "#T_53b73_row1_col2 {\n",
              "  background-color: #8badfd;\n",
              "  color: #000000;\n",
              "}\n",
              "#T_53b73_row1_col3 {\n",
              "  background-color: #d44e41;\n",
              "  color: #f1f1f1;\n",
              "}\n",
              "#T_53b73_row2_col0, #T_53b73_row2_col1, #T_53b73_row2_col3, #T_53b73_row3_col2 {\n",
              "  background-color: #3b4cc0;\n",
              "  color: #f1f1f1;\n",
              "}\n",
              "#T_53b73_row3_col0 {\n",
              "  background-color: #d1dae9;\n",
              "  color: #000000;\n",
              "}\n",
              "#T_53b73_row3_col1 {\n",
              "  background-color: #dd5f4b;\n",
              "  color: #f1f1f1;\n",
              "}\n",
              "</style>\n",
              "<table id=\"T_53b73\" class=\"dataframe\">\n",
              "  <thead>\n",
              "    <tr>\n",
              "      <th class=\"blank level0\" >&nbsp;</th>\n",
              "      <th id=\"T_53b73_level0_col0\" class=\"col_heading level0 col0\" >bitcoin price</th>\n",
              "      <th id=\"T_53b73_level0_col1\" class=\"col_heading level0 col1\" >nasdaq</th>\n",
              "      <th id=\"T_53b73_level0_col2\" class=\"col_heading level0 col2\" >deposits</th>\n",
              "      <th id=\"T_53b73_level0_col3\" class=\"col_heading level0 col3\" >apple price</th>\n",
              "    </tr>\n",
              "  </thead>\n",
              "  <tbody>\n",
              "    <tr>\n",
              "      <th id=\"T_53b73_level0_row0\" class=\"row_heading level0 row0\" >bitcoin price</th>\n",
              "      <td id=\"T_53b73_row0_col0\" class=\"data row0 col0\" >1.000000</td>\n",
              "      <td id=\"T_53b73_row0_col1\" class=\"data row0 col1\" >0.810528</td>\n",
              "      <td id=\"T_53b73_row0_col2\" class=\"data row0 col2\" >0.190460</td>\n",
              "      <td id=\"T_53b73_row0_col3\" class=\"data row0 col3\" >0.560380</td>\n",
              "    </tr>\n",
              "    <tr>\n",
              "      <th id=\"T_53b73_level0_row1\" class=\"row_heading level0 row1\" >nasdaq</th>\n",
              "      <td id=\"T_53b73_row1_col0\" class=\"data row1 col0\" >0.810528</td>\n",
              "      <td id=\"T_53b73_row1_col1\" class=\"data row1 col1\" >1.000000</td>\n",
              "      <td id=\"T_53b73_row1_col2\" class=\"data row1 col2\" >-0.120467</td>\n",
              "      <td id=\"T_53b73_row1_col3\" class=\"data row1 col3\" >0.861879</td>\n",
              "    </tr>\n",
              "    <tr>\n",
              "      <th id=\"T_53b73_level0_row2\" class=\"row_heading level0 row2\" >deposits</th>\n",
              "      <td id=\"T_53b73_row2_col0\" class=\"data row2 col0\" >0.190460</td>\n",
              "      <td id=\"T_53b73_row2_col1\" class=\"data row2 col1\" >-0.120467</td>\n",
              "      <td id=\"T_53b73_row2_col2\" class=\"data row2 col2\" >1.000000</td>\n",
              "      <td id=\"T_53b73_row2_col3\" class=\"data row2 col3\" >-0.479570</td>\n",
              "    </tr>\n",
              "    <tr>\n",
              "      <th id=\"T_53b73_level0_row3\" class=\"row_heading level0 row3\" >apple price</th>\n",
              "      <td id=\"T_53b73_row3_col0\" class=\"data row3 col0\" >0.560380</td>\n",
              "      <td id=\"T_53b73_row3_col1\" class=\"data row3 col1\" >0.861879</td>\n",
              "      <td id=\"T_53b73_row3_col2\" class=\"data row3 col2\" >-0.479570</td>\n",
              "      <td id=\"T_53b73_row3_col3\" class=\"data row3 col3\" >1.000000</td>\n",
              "    </tr>\n",
              "  </tbody>\n",
              "</table>\n"
            ]
          },
          "metadata": {},
          "execution_count": 7
        }
      ]
    },
    {
      "cell_type": "code",
      "source": [
        "n=len(b_price)\n",
        "Xs,Ys=sum(s_price),sum(b_price)\n",
        "Xm,Ym=Xs/n,Ys/n\n",
        "\n",
        "X2,Y2,XYs,Xss,Yss=0,0,0,0,0\n",
        "for x,y in zip(s_price,b_price):\n",
        "    Xss+=(x-Xm)**2\n",
        "    Yss+=(y-Ym)**2\n",
        "    XYs+=x*y                         #   XYs+=(x-Xm)*(y-Ym)\n",
        "    X2+=x**2\n",
        "    Y2+=y**2\n",
        "print(XYs,Xs,Ys,X2,Y2,Xm,Ym,Xss,Yss)\n",
        "\n",
        "\n",
        "a=(n*XYs-Xs*Ys)/(n*X2-Xs**2)\n",
        "b=Ym-a*Xm\n",
        "Yh=\"y=\"+str(round(a,2))+'x+'+str(round(b,2))\n",
        "print(Yh)\n",
        "\n",
        "\n",
        "Sxy,Sx,Sy=0,0,0\n",
        "for x,y in zip(s_price,b_price):\n",
        "    Sx+=(x-Xm)**2\n",
        "    Sy+=(y-Ym)**2\n",
        "    Sxy+=(x-Xm)*(y-Ym)\n",
        "print(Sx,Sy,Sxy)\n",
        "r=Sxy/(Xs*Ys)**(1/2)\n",
        "print(r)\n",
        "\n",
        "print(XYs,Xs,Ys,X2,Y2,Xm,Ym,Xss,Yss,Sx,Sy,Sxy)  #Xss=Sx Yss=Sy Sxy(Correletion Coefficient's value) !=XYs(a's value)   Correlation's value={(x-Xm)**2,(y-Ym**2),(x-Xm)*(y-Ym)}  Regression'svalue={n*XY}\n"
      ],
      "metadata": {
        "id": "f-vGps7KrQ_R",
        "colab": {
          "base_uri": "https://localhost:8080/"
        },
        "outputId": "fe87b874-bd9d-4d78-f265-eb9c3ef690d8"
      },
      "execution_count": null,
      "outputs": [
        {
          "output_type": "stream",
          "name": "stdout",
          "text": [
            "9050109306 696073 304187 3899271777 21988314703 29003.041666666668 12674.458333333334 6442809528.125001 8199023689.124998\n",
            "y=-0.01x+13079.99\n",
            "1800080480.9583333 43866319.95833334 227761070.54166666\n",
            "494.97330427964664\n",
            "9050109306 696073 304187 3899271777 21988314703 29003.041666666668 12674.458333333334 6442809528.125001 8199023689.124998 1800080480.9583333 43866319.95833334 227761070.54166666\n"
          ]
        }
      ]
    },
    {
      "cell_type": "code",
      "source": [
        "\n",
        "pyplot.scatter(s_price,b_price)\n",
        "pyplot.title(\"SAT and GPA\")\n",
        "pyplot.xlabel(\"SAT\")\n",
        "pyplot.ylabel(\"GPA\")\n",
        "pyplot.grid()\n",
        "Yh=\"y=\"+str(round(a,2))+\"X\"+str(round(b,2))\n",
        "print(Yh)\n",
        "pyplot.plot([min(s_price),max(s_price)],[a*min(s_price)+b,a*max(s_price)+b], color='red', label=Yh)\n",
        "pyplot.plot([Xm,Xm],[min(b_price),max(b_price)], color='orange', label=\"Xm=\"+str(Xm))\n",
        "pyplot.plot([min(s_price),max(s_price)],[Ym,Ym], color=\"blue\", label=\"Ym=\"+str(round(Ym,2)))\n",
        "\n",
        "pyplot.legend()  # Is it match with Y and X Axis? They are operating Dependent{A, B that is Label}\n",
        "\n",
        "\n",
        "pyplot.show()"
      ],
      "metadata": {
        "colab": {
          "base_uri": "https://localhost:8080/",
          "height": 258
        },
        "id": "sWPBYyROz9Xs",
        "outputId": "84d08bbc-319a-485e-baab-b461d39245b8"
      },
      "execution_count": null,
      "outputs": [
        {
          "output_type": "error",
          "ename": "NameError",
          "evalue": "ignored",
          "traceback": [
            "\u001b[0;31m---------------------------------------------------------------------------\u001b[0m",
            "\u001b[0;31mNameError\u001b[0m                                 Traceback (most recent call last)",
            "\u001b[0;32m<ipython-input-1-4ad98cb93ec2>\u001b[0m in \u001b[0;36m<cell line: 1>\u001b[0;34m()\u001b[0m\n\u001b[0;32m----> 1\u001b[0;31m \u001b[0mpyplot\u001b[0m\u001b[0;34m.\u001b[0m\u001b[0mscatter\u001b[0m\u001b[0;34m(\u001b[0m\u001b[0ms_price\u001b[0m\u001b[0;34m,\u001b[0m\u001b[0mb_price\u001b[0m\u001b[0;34m)\u001b[0m\u001b[0;34m\u001b[0m\u001b[0;34m\u001b[0m\u001b[0m\n\u001b[0m\u001b[1;32m      2\u001b[0m \u001b[0mpyplot\u001b[0m\u001b[0;34m.\u001b[0m\u001b[0mtitle\u001b[0m\u001b[0;34m(\u001b[0m\u001b[0;34m\"SAT and GPA\"\u001b[0m\u001b[0;34m)\u001b[0m\u001b[0;34m\u001b[0m\u001b[0;34m\u001b[0m\u001b[0m\n\u001b[1;32m      3\u001b[0m \u001b[0mpyplot\u001b[0m\u001b[0;34m.\u001b[0m\u001b[0mxlabel\u001b[0m\u001b[0;34m(\u001b[0m\u001b[0;34m\"SAT\"\u001b[0m\u001b[0;34m)\u001b[0m\u001b[0;34m\u001b[0m\u001b[0;34m\u001b[0m\u001b[0m\n\u001b[1;32m      4\u001b[0m \u001b[0mpyplot\u001b[0m\u001b[0;34m.\u001b[0m\u001b[0mylabel\u001b[0m\u001b[0;34m(\u001b[0m\u001b[0;34m\"GPA\"\u001b[0m\u001b[0;34m)\u001b[0m\u001b[0;34m\u001b[0m\u001b[0;34m\u001b[0m\u001b[0m\n\u001b[1;32m      5\u001b[0m \u001b[0mpyplot\u001b[0m\u001b[0;34m.\u001b[0m\u001b[0mgrid\u001b[0m\u001b[0;34m(\u001b[0m\u001b[0;34m)\u001b[0m\u001b[0;34m\u001b[0m\u001b[0;34m\u001b[0m\u001b[0m\n",
            "\u001b[0;31mNameError\u001b[0m: name 'pyplot' is not defined"
          ]
        }
      ]
    },
    {
      "cell_type": "code",
      "source": [],
      "metadata": {
        "id": "lbryi3Mc0nzk"
      },
      "execution_count": null,
      "outputs": []
    }
  ]
}